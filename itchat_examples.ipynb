{
 "cells": [
  {
   "cell_type": "markdown",
   "metadata": {},
   "source": [
    "# 玩转微信：统计好友信息"
   ]
  },
  {
   "cell_type": "markdown",
   "metadata": {},
   "source": [
    "### 登录网页版微信"
   ]
  },
  {
   "cell_type": "code",
   "execution_count": null,
   "metadata": {},
   "outputs": [],
   "source": [
    "import itchat\n",
    "    \n",
    "itchat.login()"
   ]
  },
  {
   "cell_type": "markdown",
   "metadata": {},
   "source": [
    "### 获取好友信息"
   ]
  },
  {
   "cell_type": "code",
   "execution_count": null,
   "metadata": {},
   "outputs": [],
   "source": [
    "friends = itchat.get_friends(update=True)\n",
    "friends[0].keys()"
   ]
  },
  {
   "cell_type": "markdown",
   "metadata": {},
   "source": [
    "可以看到每个好友有以下有效信息：\n",
    "+ NickName: 昵称；\n",
    "+ Sex: 性别（0代表未知，1代表男，2代表女）;\n",
    "+ Province: 省份;\n",
    "+ City: 城市;\n",
    "+ Signature: 签名。\n",
    "\n",
    "提取这些信息做个列表："
   ]
  },
  {
   "cell_type": "code",
   "execution_count": null,
   "metadata": {},
   "outputs": [],
   "source": [
    "import pandas as pd\n",
    "\n",
    "data = list()\n",
    "unknown, male, female = 0, 0, 0    \n",
    "for friend in friends:\n",
    "    if friend.get('Sex', '') == 0:\n",
    "        gender = 'Unknown'\n",
    "        unknown += 1\n",
    "    elif friend.get('Sex', '') == 1:\n",
    "        gender = 'Male'\n",
    "        male += 1\n",
    "    else:\n",
    "        gender = 'Female'\n",
    "        female +=1    \n",
    "    loc = friend.get('Province', '?') + '-' + friend.get('City', '?')\n",
    "    data.append([friend.get('NickName', ''), gender, loc, friend.get('Signature', '')])\n",
    "    \n",
    "wechat = pd.DataFrame(data=data, columns=['Name', 'Gender', 'Location', 'Signature'])"
   ]
  },
  {
   "cell_type": "markdown",
   "metadata": {},
   "source": [
    "预览前三行："
   ]
  },
  {
   "cell_type": "code",
   "execution_count": null,
   "metadata": {},
   "outputs": [],
   "source": [
    "wechat.head(3)"
   ]
  },
  {
   "cell_type": "markdown",
   "metadata": {},
   "source": [
    "保存列表信息到Excel文件："
   ]
  },
  {
   "cell_type": "code",
   "execution_count": null,
   "metadata": {},
   "outputs": [],
   "source": [
    "wechat.to_excel('微信好友列表.xlsx', index=False)"
   ]
  },
  {
   "cell_type": "markdown",
   "metadata": {},
   "source": [
    "### 好友信息统计"
   ]
  },
  {
   "cell_type": "code",
   "execution_count": null,
   "metadata": {},
   "outputs": [],
   "source": [
    "#使用plotly进行结果可视化\n",
    "import plotly.graph_objs as go\n",
    "from plotly.offline import download_plotlyjs, init_notebook_mode, plot, iplot\n",
    "\n",
    "init_notebook_mode(connected=True)"
   ]
  },
  {
   "cell_type": "markdown",
   "metadata": {},
   "source": [
    "+ 性别结构"
   ]
  },
  {
   "cell_type": "code",
   "execution_count": null,
   "metadata": {
    "scrolled": false
   },
   "outputs": [],
   "source": [
    "plotdata = [go.Pie(\n",
    "    labels = ['Male', 'Female', 'Unknown'],\n",
    "    values = [male, female, unknown],\n",
    "    hoverinfo='label+percent',\n",
    "    textinfo='label', \n",
    "    textfont=dict(size=20)\n",
    ")]\n",
    "iplot(plotdata, filename='gender_dist')"
   ]
  },
  {
   "cell_type": "markdown",
   "metadata": {},
   "source": [
    "+ 地域分布"
   ]
  },
  {
   "cell_type": "code",
   "execution_count": null,
   "metadata": {},
   "outputs": [],
   "source": [
    "loc = wechat['Location'].values\n",
    "provs, cities = [], []\n",
    "for l in loc:\n",
    "    prov, city = l.split('-')\n",
    "    if prov != '':\n",
    "        provs.append(prov)\n",
    "        if prov in ('北京', '上海', '天津', '重庆'):\n",
    "            cities.append(prov)\n",
    "            continue\n",
    "    if city != '': cities.append(city)"
   ]
  },
  {
   "cell_type": "markdown",
   "metadata": {},
   "source": [
    "按频率从高到低排序："
   ]
  },
  {
   "cell_type": "code",
   "execution_count": null,
   "metadata": {},
   "outputs": [],
   "source": [
    "from collections import Counter\n",
    "\n",
    "city_counter = Counter(cities)\n",
    "city_counter = sorted(city_counter.items(), key=lambda kv: kv[1], reverse=True)\n",
    "cities_sorted = [c[0] for c in city_counter]\n",
    "cities_count = [c[1] for c in city_counter]"
   ]
  },
  {
   "cell_type": "markdown",
   "metadata": {},
   "source": [
    "绘制柱状图："
   ]
  },
  {
   "cell_type": "code",
   "execution_count": null,
   "metadata": {
    "scrolled": false
   },
   "outputs": [],
   "source": [
    "plotdata = [go.Bar(\n",
    "    x=cities_sorted,\n",
    "    y=cities_count\n",
    ")]\n",
    "\n",
    "iplot(plotdata, filename='city_dist')"
   ]
  },
  {
   "cell_type": "markdown",
   "metadata": {},
   "source": [
    "+ 签名词云\n",
    "\n",
    "词云图能够展示文段中词汇出现的频率，频率越高，对应词显示的尺寸越大"
   ]
  },
  {
   "cell_type": "code",
   "execution_count": null,
   "metadata": {},
   "outputs": [],
   "source": [
    "import wordcloud as wc\n",
    "import pkuseg\n",
    "import numpy as np\n",
    "from PIL import Image\n",
    "\n",
    "# 使用pkuseg分词\n",
    "sigs = ''.join(str(wechat['Signature'].values))\n",
    "seg = pkuseg.pkuseg()\n",
    "sigs_cut = ' '.join(seg.cut(sigs))\n",
    "stopwords = wc.STOPWORDS.copy()\n",
    "# 去除微信表情码\n",
    "stopwords.add('span')\n",
    "stopwords.add('nan')\n",
    "stopwords.add('emoji')\n",
    "stopwords.add('class')\n",
    "stopwords.add('emoji1f334')\n",
    "stopwords.add('emoji1f388')\n",
    "stopwords.add('emoji1f33a')\n",
    "stopwords.add('emoji1f33c')\n",
    "stopwords.add('emoji1f633')\n",
    "stopwords.add('emoji1f')\n",
    "bg_img = np.array(Image.open('2019.png').convert('RGB'))\n",
    "bg_img[~np.any(bg_img, axis=2), :] = np.repeat(255, bg_img.shape[2])\n",
    "wdcld = wc.WordCloud(width=1024, height=768, background_color='white', mask=bg_img, \n",
    "                  stopwords=stopwords, max_font_size=400, random_state=50)\n",
    "wdcld.generate_from_text(sigs_cut)\n",
    "image_colors = wc.ImageColorGenerator(bg_img)"
   ]
  },
  {
   "cell_type": "code",
   "execution_count": null,
   "metadata": {},
   "outputs": [],
   "source": [
    "%matplotlib notebook\n",
    "import matplotlib.pyplot as plt\n",
    "\n",
    "plt.imshow(wdcld.recolor(color_func=image_colors), interpolation='bilinear')\n",
    "plt.axis('off')"
   ]
  },
  {
   "cell_type": "markdown",
   "metadata": {},
   "source": [
    "### 获取订阅号列表"
   ]
  },
  {
   "cell_type": "code",
   "execution_count": null,
   "metadata": {},
   "outputs": [],
   "source": [
    "mps = itchat.get_mps(update=True)\n",
    "mps_list = [mp['NickName'] for mp in mps]"
   ]
  }
 ],
 "metadata": {
  "kernelspec": {
   "display_name": "Python 3",
   "language": "python",
   "name": "python3"
  },
  "language_info": {
   "codemirror_mode": {
    "name": "ipython",
    "version": 3
   },
   "file_extension": ".py",
   "mimetype": "text/x-python",
   "name": "python",
   "nbconvert_exporter": "python",
   "pygments_lexer": "ipython3",
   "version": "3.7.3"
  }
 },
 "nbformat": 4,
 "nbformat_minor": 2
}
